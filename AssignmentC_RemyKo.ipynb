{
  "nbformat": 4,
  "nbformat_minor": 0,
  "metadata": {
    "colab": {
      "name": "AssignmentC_RemyKo",
      "provenance": [],
      "collapsed_sections": [],
      "history_visible": true,
      "include_colab_link": true
    },
    "kernelspec": {
      "name": "python3",
      "display_name": "Python 3"
    },
    "accelerator": "GPU"
  },
  "cells": [
    {
      "cell_type": "markdown",
      "metadata": {
        "id": "view-in-github",
        "colab_type": "text"
      },
      "source": [
        "<a href=\"https://colab.research.google.com/github/remy1618/ProgrammingAssignment2/blob/master/AssignmentC_RemyKo.ipynb\" target=\"_parent\"><img src=\"https://colab.research.google.com/assets/colab-badge.svg\" alt=\"Open In Colab\"/></a>"
      ]
    },
    {
      "cell_type": "markdown",
      "metadata": {
        "id": "ON4WbEBvk9Z9"
      },
      "source": [
        "# Linear Regression\n",
        "## Predicting Student's marks from Study Hours"
      ]
    },
    {
      "cell_type": "markdown",
      "metadata": {
        "id": "RKxoZ5lknWll"
      },
      "source": [
        "### Import Libraries"
      ]
    },
    {
      "cell_type": "code",
      "metadata": {
        "id": "Lq6qDjhHnbak"
      },
      "source": [
        "import autograd.numpy as np # for autograd, need to use autograd's numpy!\n",
        "import matplotlib.pyplot as plt\n",
        "from autograd import grad # autograd!\n",
        "import jax.numpy as jaxnp\n",
        "from jax import grad as jaxgrad"
      ],
      "execution_count": 29,
      "outputs": []
    },
    {
      "cell_type": "markdown",
      "metadata": {
        "id": "W5b_-H-zn3_O"
      },
      "source": [
        "### Read Data"
      ]
    },
    {
      "cell_type": "code",
      "metadata": {
        "id": "T1a23JYWn5oM"
      },
      "source": [
        "data = np.genfromtxt('https://raw.githubusercontent.com/kaustubholpadkar/Linear_Regression-Gradient_Descent-Octave/master/data.csv', delimiter=',')"
      ],
      "execution_count": 30,
      "outputs": []
    },
    {
      "cell_type": "code",
      "metadata": {
        "id": "Ip2EQ_PGoQJO",
        "colab": {
          "base_uri": "https://localhost:8080/"
        },
        "outputId": "1aea6de3-94b3-4f63-9e97-508156b42358"
      },
      "source": [
        "data.shape"
      ],
      "execution_count": 31,
      "outputs": [
        {
          "output_type": "execute_result",
          "data": {
            "text/plain": [
              "(100, 2)"
            ]
          },
          "metadata": {
            "tags": []
          },
          "execution_count": 31
        }
      ]
    },
    {
      "cell_type": "markdown",
      "metadata": {
        "id": "8rMv-L53odN5"
      },
      "source": [
        "### Seperate Data into X and Y"
      ]
    },
    {
      "cell_type": "code",
      "metadata": {
        "id": "uop_AFQSolHl"
      },
      "source": [
        "X = data[:, 0]\n",
        "Y = data[:, 1]\n",
        "jaxX = jaxnp.asarray(X)\n",
        "jaxY = jaxnp.asarray(Y)"
      ],
      "execution_count": 32,
      "outputs": []
    },
    {
      "cell_type": "markdown",
      "metadata": {
        "id": "wPSTKDAXpLAN"
      },
      "source": [
        "### Visualize the Data"
      ]
    },
    {
      "cell_type": "code",
      "metadata": {
        "id": "qdTK7EOQpL5Y",
        "colab": {
          "base_uri": "https://localhost:8080/",
          "height": 312
        },
        "outputId": "98aff9b6-aac6-4b4e-8b23-6b825249c02f"
      },
      "source": [
        "fig = plt.figure()\n",
        "plt.scatter(X, Y)\n",
        "fig.suptitle('Student Data : Expected Marks vs Hours of Study', fontsize=18)\n",
        "plt.xlabel('Hours of Study', fontsize=14)\n",
        "plt.ylabel('Expected Marks', fontsize=14)\n",
        "plt.show()"
      ],
      "execution_count": 33,
      "outputs": [
        {
          "output_type": "display_data",
          "data": {
            "image/png": "[encoded data removed]",
            "text/plain": [
              "<Figure size 432x288 with 1 Axes>"
            ]
          },
          "metadata": {
            "tags": [],
            "needs_background": "light"
          }
        }
      ]
    },
    {
      "cell_type": "markdown",
      "metadata": {
        "id": "Yrjucdifq_mt"
      },
      "source": [
        "### Hyperparameters"
      ]
    },
    {
      "cell_type": "code",
      "metadata": {
        "id": "OwVfkk3RrC_I"
      },
      "source": [
        "learning_rate = 0.0001\n",
        "max_iteration = 40"
      ],
      "execution_count": 34,
      "outputs": []
    },
    {
      "cell_type": "markdown",
      "metadata": {
        "id": "EzXaG70OrZtn"
      },
      "source": [
        "### Parameters"
      ]
    },
    {
      "cell_type": "code",
      "metadata": {
        "id": "2INJM9AIrcBu"
      },
      "source": [
        "m = 0.0 # with autograd need to assign floats!\n",
        "b = 0.0 "
      ],
      "execution_count": 35,
      "outputs": []
    },
    {
      "cell_type": "markdown",
      "metadata": {
        "id": "FPt2eKjBr1Lx"
      },
      "source": [
        "### Hypothesis"
      ]
    },
    {
      "cell_type": "code",
      "metadata": {
        "id": "enVE4tHWsBBF"
      },
      "source": [
        "def h (m, b, X) :\n",
        "  return m * X + b"
      ],
      "execution_count": 36,
      "outputs": []
    },
    {
      "cell_type": "markdown",
      "metadata": {
        "id": "IA9I6vaXs7nb"
      },
      "source": [
        "### Loss Function"
      ]
    },
    {
      "cell_type": "code",
      "metadata": {
        "id": "3KOQVUjBs-Ub"
      },
      "source": [
        "# when we did this without autograd, the loss was NOT used in the optimization!\n",
        "# it was just used to print a diagnostic message during the optimization\n",
        "# here, with autograd, we are going to use loss directly (see gradientAG)\n",
        "def loss (m, b, X, Y):\n",
        "  return (1/np.size(Y))*np.sum(np.square(Y - h(m, b, X))) / 2\n",
        "# for autograd to work, need to remove use of np.average\n",
        "# and replace with 1/N * np.sum... in the loss function\n",
        "# because ow autograd will complain that it can't do its\n",
        "# thing with np.average (and in an obscure manner)\n"
      ],
      "execution_count": 37,
      "outputs": []
    },
    {
      "cell_type": "code",
      "metadata": {
        "id": "xefxZGjgoSRp"
      },
      "source": [
        "def jaxloss (m, b, X, Y):\n",
        "  return (1/jaxnp.size(jaxY))*jaxnp.sum(jaxnp.square(Y - h(m, b, jaxX))) / 2"
      ],
      "execution_count": 38,
      "outputs": []
    },
    {
      "cell_type": "markdown",
      "metadata": {
        "id": "7TE79NG-tyLG"
      },
      "source": [
        "### Calculate Gradients"
      ]
    },
    {
      "cell_type": "code",
      "metadata": {
        "id": "yy9yxye4t0BJ"
      },
      "source": [
        "# old gradient function that was manually derived from the loss function\n",
        "# not used in the autograd version\n",
        "def gradient (m, b, X, Y) :\n",
        "  dm = - np.average((Y - h(m, b, X)) * X)\n",
        "  db = - np.average(Y - h(m, b, X))\n",
        "  return (dm, db)"
      ],
      "execution_count": 39,
      "outputs": []
    },
    {
      "cell_type": "code",
      "metadata": {
        "id": "kJIXPe5n4QX8"
      },
      "source": [
        "# autograd is used to derive the gradients\n",
        "grad_loss_m = grad(loss,0) # grad of loss wrt 0th arg, m\n",
        "grad_loss_b = grad(loss,1) # grad of loss wrt 1st arg, b\n",
        "\n",
        "def gradientAG (m, b, X, Y) :\n",
        "  dm = grad_loss_m(m,b,X,Y)\n",
        "  db = grad_loss_b(m,b,X,Y)\n",
        "  return (dm, db)\n",
        "# debug stuff ... used to figure out why autograd complained\n",
        "# when loss had an np.average in it; keeping it in the code\n",
        "# so students can understand how to debug something...\n",
        "#print(\"m\",m)\n",
        "#print(\"b\",b)\n",
        "#print(\"X\",X)\n",
        "#print(\"Y\",Y)\n",
        "#f=grad(loss,0)\n",
        "#gradientAG(m,b,X,Y)\n",
        "#help(f)\n",
        "#f=grad(loss)\n",
        "#f(m,b,X,Y)\n"
      ],
      "execution_count": 40,
      "outputs": []
    },
    {
      "cell_type": "code",
      "metadata": {
        "id": "M7ShZaEKoyfx"
      },
      "source": [
        "jaxgrad_loss_m = jaxgrad(jaxloss,0)\n",
        "jaxgrad_loss_b = jaxgrad(jaxloss,1)\n",
        "\n",
        "def jaxgradientAG( m, b, X, Y):\n",
        "  dm = jaxgrad_loss_m(m,b,jaxX,jaxY)\n",
        "  db = jaxgrad_loss_b(m,b,jaxX,jaxY)\n",
        "  return (dm, db)"
      ],
      "execution_count": 41,
      "outputs": []
    },
    {
      "cell_type": "markdown",
      "metadata": {
        "id": "jVo5TbKyu9KL"
      },
      "source": [
        "### Gradient Descent"
      ]
    },
    {
      "cell_type": "code",
      "metadata": {
        "id": "fprg4-tcu-4v"
      },
      "source": [
        "def gradient_descent (m, b, X, Y, learning_rate, max_iteration) :\n",
        "  for i in range(max_iteration) :\n",
        "    # replace the call to gradient with gradientAG for autograd\n",
        "    dm, db = gradientAG (m, b, X, Y)\n",
        "    m -= learning_rate * dm\n",
        "    b -= learning_rate * db\n",
        "    if i % 10 == 0 :\n",
        "      print ('iteration : ', i, ' loss : ', loss(m, b, X, Y)) \n",
        "  return (m, b)"
      ],
      "execution_count": 42,
      "outputs": []
    },
    {
      "cell_type": "code",
      "metadata": {
        "id": "AXNR04VqpBeG"
      },
      "source": [
        "def jaxgradient_descent (m, b, X, Y, learning_rate, max_iteration) :\n",
        "  for i in range(max_iteration) :\n",
        "    dm, db = jaxgradientAG (m, b, jaxX, jaxY)\n",
        "    m -= learning_rate * dm\n",
        "    b -= learning_rate * db\n",
        "    if i % 10 == 0 :\n",
        "      print ('iteration : ', i, ' loss : ', jaxloss(m, b, jaxX, jaxY))\n",
        "  return (m, b)"
      ],
      "execution_count": 43,
      "outputs": []
    },
    {
      "cell_type": "markdown",
      "metadata": {
        "id": "uMIZFxUhwQZO"
      },
      "source": [
        "### Train Model"
      ]
    },
    {
      "cell_type": "code",
      "metadata": {
        "id": "-0okDGSCwUC7",
        "colab": {
          "base_uri": "https://localhost:8080/"
        },
        "outputId": "cbbda370-b29b-4aba-acc8-a4ac1ed7f046"
      },
      "source": [
        "m, b = gradient_descent (m, b, X, Y, learning_rate, max_iteration)\n",
        "jaxm, jaxb = jaxgradient_descent (m, b, jaxX, jaxY, learning_rate, max_iteration)"
      ],
      "execution_count": 44,
      "outputs": [
        {
          "output_type": "stream",
          "text": [
            "iteration :  0  loss :  1593.1334591670338\n",
            "iteration :  10  loss :  61.30482288585254\n",
            "iteration :  20  loss :  56.34127863702311\n",
            "iteration :  30  loss :  56.32510567688098\n",
            "iteration :  0  loss :  56.32496\n",
            "iteration :  10  loss :  56.32487\n",
            "iteration :  20  loss :  56.32478\n",
            "iteration :  30  loss :  56.32469\n"
          ],
          "name": "stdout"
        }
      ]
    },
    {
      "cell_type": "markdown",
      "metadata": {
        "id": "MFp2MUlexVd5"
      },
      "source": [
        "### Optimal values of Parameters using Trained Model"
      ]
    },
    {
      "cell_type": "code",
      "metadata": {
        "id": "tcMQWkuvwYu7",
        "colab": {
          "base_uri": "https://localhost:8080/"
        },
        "outputId": "6dd491e7-9f8f-4b00-f914-b7ea57ab455b"
      },
      "source": [
        "print(m, b)\n",
        "print(jaxm, jaxb)"
      ],
      "execution_count": 45,
      "outputs": [
        {
          "output_type": "stream",
          "text": [
            "1.4788816395347437 0.030269239406545283\n",
            "1.4788734 0.031471193\n"
          ],
          "name": "stdout"
        }
      ]
    },
    {
      "cell_type": "markdown",
      "metadata": {
        "id": "vsa_VlHd8ged"
      },
      "source": [
        "### Linear Regression using *polyfit*  function of **numpy**"
      ]
    },
    {
      "cell_type": "code",
      "metadata": {
        "id": "WJajnpzW8p2L"
      },
      "source": [
        "np_m, np_b = np.polyfit(X, Y, 1)"
      ],
      "execution_count": 46,
      "outputs": []
    },
    {
      "cell_type": "markdown",
      "metadata": {
        "id": "MjJ7Di8z8-Qb"
      },
      "source": [
        "### Optimal values of Parameters using Numpy Linear Regression"
      ]
    },
    {
      "cell_type": "code",
      "metadata": {
        "id": "z4G5h9Ki7IJi",
        "colab": {
          "base_uri": "https://localhost:8080/"
        },
        "outputId": "eccbdf39-a44b-4755-faf7-ca90ffc46331"
      },
      "source": [
        "np_m, np_b"
      ],
      "execution_count": 47,
      "outputs": [
        {
          "output_type": "execute_result",
          "data": {
            "text/plain": [
              "(1.3224310227553602, 7.991020982270394)"
            ]
          },
          "metadata": {
            "tags": []
          },
          "execution_count": 47
        }
      ]
    },
    {
      "cell_type": "markdown",
      "metadata": {
        "id": "Dh6PmQOwxcKk"
      },
      "source": [
        "### Visualize the Data"
      ]
    },
    {
      "cell_type": "code",
      "metadata": {
        "id": "B0h7MJE0xcKo",
        "colab": {
          "base_uri": "https://localhost:8080/",
          "height": 312
        },
        "outputId": "3065a59c-9660-4eba-a8a8-f297c403c38b"
      },
      "source": [
        "fig = plt.figure()\n",
        "\n",
        "# Generate data for plotting Line\n",
        "x = np.arange(25, 75)\n",
        "y = [m * x_i + b for x_i in x]\n",
        "jaxy = [jaxm * x_i + jaxb for x_i in x]\n",
        "\n",
        "# Generate data for plotting Line Numpy Linear Regression\n",
        "np_x = np.arange(25, 75)\n",
        "np_y = [np_m * x_i + np_b for x_i in np_x]\n",
        "\n",
        "# plot data and best-fit lines\n",
        "plt.plot(X, Y, 'o', x, y, '-', np_x, np_y, '--', x, jaxy, '-.')\n",
        "plt.legend(loc='upper left', labels=['data points', 'autograd best-fit line', 'numpy line', 'jax best-fit line'])\n",
        "\n",
        "fig.suptitle('Linear Regression : Expected Marks vs Hours of Study', fontsize=18)\n",
        "plt.xlabel('Hours of Study', fontsize=14)\n",
        "plt.ylabel('Expected Marks', fontsize=14)\n",
        "plt.show()"
      ],
      "execution_count": 48,
      "outputs": [
        {
          "output_type": "display_data",
          "data": {
            "image/png": "[encoded data removed]",
            "text/plain": [
              "<Figure size 432x288 with 1 Axes>"
            ]
          },
          "metadata": {
            "tags": [],
            "needs_background": "light"
          }
        }
      ]
    }
  ]
}